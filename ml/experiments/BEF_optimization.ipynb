{
 "cells": [
  {
   "cell_type": "code",
   "execution_count": 3,
   "metadata": {},
   "outputs": [],
   "source": [
    "import torch.nn.functional as F\n",
    "import torch\n",
    "import numpy as np\n",
    "import matplotlib.pyplot as plt\n",
    "import os\n",
    "import sys\n",
    "from tqdm.notebook import tqdm\n",
    "\n",
    "sys.path.append(\"..\")\n",
    "\n",
    "from gisalgo import *\n",
    "from helpers import *\n",
    "\n",
    "import plotly.express as px\n",
    "import plotly.graph_objects as go\n",
    "import plotly.figure_factory as ff\n",
    "import matplotlib as mpl\n",
    "import datetime\n",
    "from math import atan, pi\n",
    "from scipy.optimize import minimize\n",
    "%matplotlib inline\n",
    "\n",
    "device = 'cpu'\n",
    "NAN_VAL = -100\n",
    "WINDOW_SIZE = (31, 31)\n",
    "VICINITY_SIZE = (80, 80)\n",
    "dX = 500\n",
    "dY = 500\n",
    "STEP = 10\n",
    "X0 = 190\n",
    "Y0 = 940\n",
    "dT = 22810\n",
    "EPOCHS = 10"
   ]
  },
  {
   "cell_type": "code",
   "execution_count": 4,
   "metadata": {},
   "outputs": [],
   "source": [
    "b0, data1 = parse('20060504_072852_NOAA_12.m.pro')\n",
    "data1 = data1.astype(float)\n",
    "data1[data1 < 0] = -100"
   ]
  },
  {
   "cell_type": "code",
   "execution_count": 5,
   "metadata": {},
   "outputs": [],
   "source": [
    "b0, data2 = parse('20060504_125118_NOAA_17.m.pro')\n",
    "data2 = data2.astype(float)\n",
    "data2[data2 < 0] = -100"
   ]
  },
  {
   "cell_type": "code",
   "execution_count": 6,
   "metadata": {},
   "outputs": [],
   "source": [
    "point_coors = generate_points(data1, X0, Y0, dX, dY, STEP, WINDOW_SIZE, NAN_VAL)"
   ]
  },
  {
   "cell_type": "code",
   "execution_count": 7,
   "metadata": {},
   "outputs": [],
   "source": [
    "data1 = torch.tensor(data1).to(device)\n",
    "data2 = torch.tensor(data2).to(device)"
   ]
  },
  {
   "cell_type": "code",
   "execution_count": 8,
   "metadata": {},
   "outputs": [],
   "source": [
    "def BEL(new_coors, point_coors, window_size, coefs):\n",
    "    new_coors_rev = []\n",
    "    for new_coor in tqdm(new_coors):\n",
    "        idx, score = find_best_match(data2, data1, new_coor, window_size, \n",
    "                        VICINITY_SIZE, ssim, \n",
    "                        device, 'max', None)\n",
    "        new_coors_rev.append(idx)\n",
    "    new_coors_rev = torch.tensor(new_coors_rev, dtype=torch.float32, requires_grad=True)\n",
    "    point_coors = torch.tensor(point_coors, dtype=torch.float32, requires_grad=True)\n",
    "    return torch.mean(torch.sqrt(torch.sum(torch.pow(new_coors_rev-point_coors, 2), 1)))"
   ]
  },
  {
   "cell_type": "code",
   "execution_count": 9,
   "metadata": {},
   "outputs": [],
   "source": [
    "alpha = torch.tensor(1.0, requires_grad=True)\n",
    "beta = torch.tensor(1.0, requires_grad=True)\n",
    "gamma = torch.tensor(1.0, requires_grad=True)\n",
    "optimizer = torch.optim.Adam([alpha, beta, gamma], lr=1e-2)\n",
    "EPOCHS = 5"
   ]
  },
  {
   "cell_type": "code",
   "execution_count": 10,
   "metadata": {},
   "outputs": [],
   "source": [
    "losses = []\n",
    "params = []"
   ]
  },
  {
   "cell_type": "code",
   "execution_count": 11,
   "metadata": {},
   "outputs": [
    {
     "data": {
      "application/vnd.jupyter.widget-view+json": {
       "model_id": "f71e2f5dc7644fb697aca19e720a86a1",
       "version_major": 2,
       "version_minor": 0
      },
      "text/plain": [
       "  0%|          | 0/5 [00:00<?, ?it/s]"
      ]
     },
     "metadata": {},
     "output_type": "display_data"
    },
    {
     "data": {
      "application/vnd.jupyter.widget-view+json": {
       "model_id": "01f6e55913444d1291f7fcb5206b25f7",
       "version_major": 2,
       "version_minor": 0
      },
      "text/plain": [
       "  0%|          | 0/2209 [00:00<?, ?it/s]"
      ]
     },
     "metadata": {},
     "output_type": "display_data"
    },
    {
     "data": {
      "application/vnd.jupyter.widget-view+json": {
       "model_id": "d6912053e99a4788aaca668841095b76",
       "version_major": 2,
       "version_minor": 0
      },
      "text/plain": [
       "  0%|          | 0/2209 [00:00<?, ?it/s]"
      ]
     },
     "metadata": {},
     "output_type": "display_data"
    },
    {
     "name": "stdout",
     "output_type": "stream",
     "text": [
      "tensor(0.1190, grad_fn=<DivBackward0>)\n"
     ]
    },
    {
     "data": {
      "application/vnd.jupyter.widget-view+json": {
       "model_id": "4c5c1995ed664f42a4d5717760df7574",
       "version_major": 2,
       "version_minor": 0
      },
      "text/plain": [
       "  0%|          | 0/2209 [00:00<?, ?it/s]"
      ]
     },
     "metadata": {},
     "output_type": "display_data"
    },
    {
     "data": {
      "application/vnd.jupyter.widget-view+json": {
       "model_id": "7fe5660858344eccaf988cb3e49a66b2",
       "version_major": 2,
       "version_minor": 0
      },
      "text/plain": [
       "  0%|          | 0/2209 [00:00<?, ?it/s]"
      ]
     },
     "metadata": {},
     "output_type": "display_data"
    },
    {
     "name": "stdout",
     "output_type": "stream",
     "text": [
      "tensor(0.1190, grad_fn=<DivBackward0>)\n"
     ]
    },
    {
     "data": {
      "application/vnd.jupyter.widget-view+json": {
       "model_id": "c80a834bfadb408ca74d75fb296b8524",
       "version_major": 2,
       "version_minor": 0
      },
      "text/plain": [
       "  0%|          | 0/2209 [00:00<?, ?it/s]"
      ]
     },
     "metadata": {},
     "output_type": "display_data"
    },
    {
     "data": {
      "application/vnd.jupyter.widget-view+json": {
       "model_id": "0f2a5e8e94c14204b9b32374379cd5e1",
       "version_major": 2,
       "version_minor": 0
      },
      "text/plain": [
       "  0%|          | 0/2209 [00:00<?, ?it/s]"
      ]
     },
     "metadata": {},
     "output_type": "display_data"
    },
    {
     "name": "stdout",
     "output_type": "stream",
     "text": [
      "tensor(0.1190, grad_fn=<DivBackward0>)\n"
     ]
    },
    {
     "data": {
      "application/vnd.jupyter.widget-view+json": {
       "model_id": "c754ad1bdc024013bc464c889f62faed",
       "version_major": 2,
       "version_minor": 0
      },
      "text/plain": [
       "  0%|          | 0/2209 [00:00<?, ?it/s]"
      ]
     },
     "metadata": {},
     "output_type": "display_data"
    },
    {
     "data": {
      "application/vnd.jupyter.widget-view+json": {
       "model_id": "86b11ec2b6d847a09855fcd7be69b163",
       "version_major": 2,
       "version_minor": 0
      },
      "text/plain": [
       "  0%|          | 0/2209 [00:00<?, ?it/s]"
      ]
     },
     "metadata": {},
     "output_type": "display_data"
    },
    {
     "name": "stdout",
     "output_type": "stream",
     "text": [
      "tensor(0.1190, grad_fn=<DivBackward0>)\n"
     ]
    },
    {
     "data": {
      "application/vnd.jupyter.widget-view+json": {
       "model_id": "ec86e998d98b40e1b024dad40e4f2610",
       "version_major": 2,
       "version_minor": 0
      },
      "text/plain": [
       "  0%|          | 0/2209 [00:00<?, ?it/s]"
      ]
     },
     "metadata": {},
     "output_type": "display_data"
    },
    {
     "data": {
      "application/vnd.jupyter.widget-view+json": {
       "model_id": "4b89b04b19264a9f8ede55b36ebf1b0e",
       "version_major": 2,
       "version_minor": 0
      },
      "text/plain": [
       "  0%|          | 0/2209 [00:00<?, ?it/s]"
      ]
     },
     "metadata": {},
     "output_type": "display_data"
    },
    {
     "name": "stdout",
     "output_type": "stream",
     "text": [
      "tensor(0.1190, grad_fn=<DivBackward0>)\n"
     ]
    }
   ],
   "source": [
    "for epoch in tqdm(range(EPOCHS)):\n",
    "    coefs = {\n",
    "        'alpha': alpha,\n",
    "        'beta': beta,\n",
    "        'gamma': gamma\n",
    "    }\n",
    "    new_coors = []\n",
    "    for point_coor in tqdm(point_coors):\n",
    "        idx, score = find_best_match(data1, data2, point_coor, WINDOW_SIZE, \n",
    "                        VICINITY_SIZE, ssim, \n",
    "                        device, 'max', coefs)\n",
    "        new_coors.append(idx)\n",
    "    loss = BEL(new_coors, point_coors, WINDOW_SIZE, coefs)\n",
    "    loss.backward()\n",
    "    optimizer.step()\n",
    "    optimizer.zero_grad()\n",
    "    losses.append(loss.detach().item())\n",
    "    params.append([alpha.detach().item(), beta.detach().item(), gamma.detach().item()])\n",
    "    print(loss/(VICINITY_SIZE[0]**2+VICINITY_SIZE[1]**2)**.5)"
   ]
  },
  {
   "cell_type": "code",
   "execution_count": null,
   "metadata": {},
   "outputs": [],
   "source": []
  }
 ],
 "metadata": {
  "kernelspec": {
   "display_name": "Python 3",
   "language": "python",
   "name": "python3"
  },
  "language_info": {
   "codemirror_mode": {
    "name": "ipython",
    "version": 3
   },
   "file_extension": ".py",
   "mimetype": "text/x-python",
   "name": "python",
   "nbconvert_exporter": "python",
   "pygments_lexer": "ipython3",
   "version": "3.6.13"
  }
 },
 "nbformat": 4,
 "nbformat_minor": 2
}
