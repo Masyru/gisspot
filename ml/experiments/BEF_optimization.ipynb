{
 "cells": [
  {
   "cell_type": "code",
   "execution_count": 1,
   "metadata": {},
   "outputs": [],
   "source": [
    "import torch.nn.functional as F\n",
    "import torch\n",
    "from torch import nn\n",
    "import numpy as np\n",
    "import matplotlib.pyplot as plt\n",
    "import os\n",
    "import sys\n",
    "from tqdm.notebook import tqdm\n",
    "\n",
    "sys.path.append(\"..\")\n",
    "\n",
    "from gisalgo import *\n",
    "from helpers import *\n",
    "\n",
    "import plotly.express as px\n",
    "import plotly.graph_objects as go\n",
    "import plotly.figure_factory as ff\n",
    "import matplotlib as mpl\n",
    "import datetime\n",
    "from math import atan, pi\n",
    "from scipy.optimize import minimize\n",
    "%matplotlib inline\n",
    "\n",
    "device = 'cpu'\n",
    "NAN_VAL = -100\n",
    "WINDOW_SIZE = (15, 15)\n",
    "VICINITY_SIZE = (40, 40)\n",
    "dX = 500\n",
    "dY = 500\n",
    "STEP = 10\n",
    "X0 = 190\n",
    "Y0 = 940\n",
    "dT = 22810\n",
    "EPOCHS = 10"
   ]
  },
  {
   "cell_type": "code",
   "execution_count": 2,
   "metadata": {},
   "outputs": [],
   "source": [
    "b0, data1 = parse('20060504_072852_NOAA_12.m.pro')\n",
    "data1 = data1.astype(float)\n",
    "data1[data1 < 0] = -100"
   ]
  },
  {
   "cell_type": "code",
   "execution_count": 3,
   "metadata": {},
   "outputs": [],
   "source": [
    "b0, data2 = parse('20060504_125118_NOAA_17.m.pro')\n",
    "data2 = data2.astype(float)\n",
    "data2[data2 < 0] = -100"
   ]
  },
  {
   "cell_type": "code",
   "execution_count": 4,
   "metadata": {},
   "outputs": [],
   "source": [
    "point_coors = generate_points(data1, X0, Y0, dX, dY, STEP, WINDOW_SIZE, NAN_VAL)"
   ]
  },
  {
   "cell_type": "code",
   "execution_count": 5,
   "metadata": {},
   "outputs": [],
   "source": [
    "data1 = torch.tensor(data1).to(device)\n",
    "data2 = torch.tensor(data2).to(device)"
   ]
  },
  {
   "cell_type": "code",
   "execution_count": 6,
   "metadata": {},
   "outputs": [],
   "source": [
    "def swish(x):\n",
    "    return x*torch.sigmoid(x)\n",
    "\n",
    "class Net(nn.Module):\n",
    "    def __init__(self, in_features: int, out_features: int) -> None:\n",
    "        super().__init__()\n",
    "        self.fc1 = nn.Linear(in_features, out_features)\n",
    "        self.fc2 = nn.Linear(in_features, out_features)\n",
    "        self.in_features = in_features\n",
    "        self.out_features = out_features\n",
    "\n",
    "    def forward(self, x: torch.FloatTensor, y: torch.FloatTensor) -> torch.FloatTensor:\n",
    "        x = x.reshape(-1).float()\n",
    "        y = y.float()\n",
    "        x = swish(self.fc1(x))\n",
    "        y = swish(self.fc2(y))\n",
    "        xy = y @ x\n",
    "        \n",
    "        return xy"
   ]
  },
  {
   "cell_type": "code",
   "execution_count": 7,
   "metadata": {},
   "outputs": [],
   "source": [
    "metric = Net(31**2, 512)"
   ]
  },
  {
   "cell_type": "code",
   "execution_count": 8,
   "metadata": {},
   "outputs": [],
   "source": [
    "point_coors = generate_points(data1, X0, Y0, dX, dY, STEP, WINDOW_SIZE, NAN_VAL)"
   ]
  },
  {
   "cell_type": "code",
   "execution_count": 9,
   "metadata": {},
   "outputs": [],
   "source": [
    "loss_fn = nn.CrossEntropyLoss()\n",
    "optimizer = torch.optim.Adam(metric.parameters(), lr=1e-3)\n",
    "EPOCHS = 30"
   ]
  },
  {
   "cell_type": "code",
   "execution_count": 10,
   "metadata": {},
   "outputs": [
    {
     "data": {
      "application/vnd.jupyter.widget-view+json": {
       "model_id": "7a96303ccd524a8091aee7dc1a6d7b32",
       "version_major": 2,
       "version_minor": 0
      },
      "text/plain": [
       "  0%|          | 0/30 [00:00<?, ?it/s]"
      ]
     },
     "metadata": {},
     "output_type": "display_data"
    },
    {
     "data": {
      "application/vnd.jupyter.widget-view+json": {
       "model_id": "02afa117f94a4e65abbbdd83d3cbffa3",
       "version_major": 2,
       "version_minor": 0
      },
      "text/plain": [
       "  0%|          | 0/2401 [00:00<?, ?it/s]"
      ]
     },
     "metadata": {},
     "output_type": "display_data"
    },
    {
     "ename": "KeyboardInterrupt",
     "evalue": "",
     "output_type": "error",
     "traceback": [
      "\u001b[1;31m---------------------------------------------------------------------------\u001b[0m",
      "\u001b[1;31mKeyboardInterrupt\u001b[0m                         Traceback (most recent call last)",
      "\u001b[1;32m<ipython-input-10-19194c8cb978>\u001b[0m in \u001b[0;36m<module>\u001b[1;34m\u001b[0m\n\u001b[0;32m     14\u001b[0m         idx_backward, scores_backward = backforward_find(data2, data1, best_forward_point, \n\u001b[0;32m     15\u001b[0m                               \u001b[0mWINDOW_SIZE\u001b[0m\u001b[1;33m,\u001b[0m \u001b[0mVICINITY_SIZE\u001b[0m\u001b[1;33m,\u001b[0m \u001b[0mmetric\u001b[0m\u001b[1;33m,\u001b[0m\u001b[1;33m\u001b[0m\u001b[1;33m\u001b[0m\u001b[0m\n\u001b[1;32m---> 16\u001b[1;33m                               device)\n\u001b[0m\u001b[0;32m     17\u001b[0m         \u001b[1;32mtry\u001b[0m\u001b[1;33m:\u001b[0m\u001b[1;33m\u001b[0m\u001b[1;33m\u001b[0m\u001b[0m\n\u001b[0;32m     18\u001b[0m             \u001b[0mground_truth\u001b[0m \u001b[1;33m=\u001b[0m \u001b[0midx_backward\u001b[0m\u001b[1;33m.\u001b[0m\u001b[0mindex\u001b[0m\u001b[1;33m(\u001b[0m\u001b[0mpoint_coor\u001b[0m\u001b[1;33m)\u001b[0m\u001b[1;33m\u001b[0m\u001b[1;33m\u001b[0m\u001b[0m\n",
      "\u001b[1;32m~\\Desktop\\gisspot\\ml\\experiments\\helpers.py\u001b[0m in \u001b[0;36mbackforward_find\u001b[1;34m(img1, img2, point_coor, window_size, vicinity_size, metric_fn, device)\u001b[0m\n\u001b[0;32m    265\u001b[0m             \u001b[0midx\u001b[0m\u001b[1;33m.\u001b[0m\u001b[0mappend\u001b[0m\u001b[1;33m(\u001b[0m\u001b[1;33m[\u001b[0m\u001b[0my\u001b[0m\u001b[1;33m+\u001b[0m\u001b[0mwindow_size\u001b[0m\u001b[1;33m[\u001b[0m\u001b[1;36m0\u001b[0m\u001b[1;33m]\u001b[0m\u001b[1;33m,\u001b[0m \u001b[0mx\u001b[0m\u001b[1;33m+\u001b[0m\u001b[0mwindow_size\u001b[0m\u001b[1;33m[\u001b[0m\u001b[1;36m1\u001b[0m\u001b[1;33m]\u001b[0m\u001b[1;33m]\u001b[0m\u001b[1;33m)\u001b[0m\u001b[1;33m\u001b[0m\u001b[1;33m\u001b[0m\u001b[0m\n\u001b[0;32m    266\u001b[0m             \u001b[0mimg2_crop\u001b[0m \u001b[1;33m=\u001b[0m \u001b[0mimg2\u001b[0m\u001b[1;33m[\u001b[0m\u001b[0my\u001b[0m\u001b[1;33m:\u001b[0m\u001b[0my\u001b[0m\u001b[1;33m+\u001b[0m\u001b[0mwindow_size\u001b[0m\u001b[1;33m[\u001b[0m\u001b[1;36m0\u001b[0m\u001b[1;33m]\u001b[0m\u001b[1;33m*\u001b[0m\u001b[1;36m2\u001b[0m\u001b[1;33m+\u001b[0m\u001b[1;36m1\u001b[0m\u001b[1;33m,\u001b[0m \u001b[0mx\u001b[0m\u001b[1;33m:\u001b[0m\u001b[0mx\u001b[0m\u001b[1;33m+\u001b[0m\u001b[0mwindow_size\u001b[0m\u001b[1;33m[\u001b[0m\u001b[1;36m1\u001b[0m\u001b[1;33m]\u001b[0m\u001b[1;33m*\u001b[0m\u001b[1;36m2\u001b[0m\u001b[1;33m+\u001b[0m\u001b[1;36m1\u001b[0m\u001b[1;33m]\u001b[0m\u001b[1;33m\u001b[0m\u001b[1;33m\u001b[0m\u001b[0m\n\u001b[1;32m--> 267\u001b[1;33m             \u001b[0mimgs\u001b[0m\u001b[1;33m[\u001b[0m\u001b[0mc\u001b[0m\u001b[1;33m]\u001b[0m \u001b[1;33m=\u001b[0m \u001b[0mimg2_crop\u001b[0m\u001b[1;33m.\u001b[0m\u001b[0mreshape\u001b[0m\u001b[1;33m(\u001b[0m\u001b[1;33m-\u001b[0m\u001b[1;36m1\u001b[0m\u001b[1;33m)\u001b[0m\u001b[1;33m\u001b[0m\u001b[1;33m\u001b[0m\u001b[0m\n\u001b[0m\u001b[0;32m    268\u001b[0m             \u001b[0mc\u001b[0m \u001b[1;33m+=\u001b[0m \u001b[1;36m1\u001b[0m\u001b[1;33m\u001b[0m\u001b[1;33m\u001b[0m\u001b[0m\n\u001b[0;32m    269\u001b[0m \u001b[1;33m\u001b[0m\u001b[0m\n",
      "\u001b[1;31mKeyboardInterrupt\u001b[0m: "
     ]
    }
   ],
   "source": [
    "for epoch in tqdm(range(EPOCHS)):\n",
    "    losses = []\n",
    "    y_pred = None\n",
    "    y_true = None\n",
    "    \n",
    "    for i, point_coor in enumerate(tqdm(point_coors)):\n",
    "        # Forward pass\n",
    "        idx_forward, scores_forward = backforward_find(data1, data2, point_coor, \n",
    "                              WINDOW_SIZE, VICINITY_SIZE, metric,\n",
    "                              device)\n",
    "        best_forward_point = idx_forward[torch.argmax(scores_forward)]\n",
    "\n",
    "        # Backward pass\n",
    "        idx_backward, scores_backward = backforward_find(data2, data1, best_forward_point, \n",
    "                              WINDOW_SIZE, VICINITY_SIZE, metric,\n",
    "                              device)\n",
    "        try:\n",
    "            ground_truth = idx_backward.index(point_coor)\n",
    "            if y_pred is None:\n",
    "                y_pred = scores_backward.view(1, -1)\n",
    "                y_true = torch.tensor([ground_truth])\n",
    "            else:\n",
    "                y_pred = torch.cat((y_pred, scores_backward.view(1, -1)), 0)\n",
    "                y_true = torch.cat((y_true, torch.tensor([ground_truth])), 0)\n",
    "        except:\n",
    "            pass\n",
    "        \n",
    "        if (i+1)%32 == 0 or i+1 == len(point_coors):\n",
    "            loss = loss_fn(y_pred, y_true)\n",
    "            loss.backward()\n",
    "            losses.append(loss.detach().item())\n",
    "            optimizer.step()\n",
    "            optimizer.zero_grad()\n",
    "            y_pred = None\n",
    "            y_true = None\n",
    "            print(losses[-1])\n",
    "    print(sum(losses)/len(losses))"
   ]
  },
  {
   "cell_type": "code",
   "execution_count": 14,
   "metadata": {},
   "outputs": [
    {
     "data": {
      "text/plain": [
       "torch.Size([2601])"
      ]
     },
     "execution_count": 14,
     "metadata": {},
     "output_type": "execute_result"
    }
   ],
   "source": [
    "scores_backward.shape"
   ]
  },
  {
   "cell_type": "code",
   "execution_count": 18,
   "metadata": {},
   "outputs": [],
   "source": [
    "point_coor = [1427, 197]"
   ]
  },
  {
   "cell_type": "code",
   "execution_count": 19,
   "metadata": {},
   "outputs": [
    {
     "name": "stdout",
     "output_type": "stream",
     "text": [
      "badtrip handler 4\n",
      "torch.Size([81, 81])\n"
     ]
    }
   ],
   "source": [
    "idx_forward, scores_forward = backforward_find(data1, data2, point_coor, \n",
    "                              WINDOW_SIZE, VICINITY_SIZE, metric,            \n",
    "                              device)"
   ]
  },
  {
   "cell_type": "code",
   "execution_count": 20,
   "metadata": {},
   "outputs": [
    {
     "name": "stdout",
     "output_type": "stream",
     "text": [
      "badtrip handler 4\n",
      "torch.Size([81, 81])\n"
     ]
    }
   ],
   "source": [
    "idx_backward, scores_backward = backforward_find(data2, data1, idx_forward[torch.argmax(scores_forward)], \n",
    "                              WINDOW_SIZE, VICINITY_SIZE, metric,\n",
    "                              device)"
   ]
  },
  {
   "cell_type": "code",
   "execution_count": null,
   "metadata": {},
   "outputs": [],
   "source": []
  }
 ],
 "metadata": {
  "kernelspec": {
   "display_name": "Python 3",
   "language": "python",
   "name": "python3"
  },
  "language_info": {
   "codemirror_mode": {
    "name": "ipython",
    "version": 3
   },
   "file_extension": ".py",
   "mimetype": "text/x-python",
   "name": "python",
   "nbconvert_exporter": "python",
   "pygments_lexer": "ipython3",
   "version": "3.7.4"
  }
 },
 "nbformat": 4,
 "nbformat_minor": 2
}
