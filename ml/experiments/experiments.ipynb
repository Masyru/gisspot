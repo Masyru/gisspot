{
 "cells": [
  {
   "cell_type": "code",
   "execution_count": 1,
   "id": "fantastic-basketball",
   "metadata": {},
   "outputs": [],
   "source": [
    "import torch.nn.functional as F\n",
    "import torch\n",
    "import numpy as np\n",
    "import matplotlib.pyplot as plt\n",
    "import os\n",
    "import sys\n",
    "from tqdm.notebook import tqdm\n",
    "from helpers import *\n",
    "from matplotlib.cm import ScalarMappable\n",
    "from joblib import Parallel, delayed, parallel_backend\n",
    "import multiprocessing\n",
    "import plotly.express as px\n",
    "import plotly.graph_objects as go\n",
    "import plotly.figure_factory as ff\n",
    "import matplotlib as mpl\n",
    "import datetime\n",
    "from math import atan, pi\n",
    "\n",
    "%matplotlib inline\n",
    "\n",
    "device = 'cpu'\n",
    "NAN_VAL = -100\n",
    "WINDOW_SIZE = (31, 31)\n",
    "VICINITY_SIZE = (80, 80)\n",
    "dX = 500\n",
    "dY = 500\n",
    "STEP = 10\n",
    "X0 = 190\n",
    "Y0 = 940\n",
    "dT = 22810\n",
    "DISTANCE_QUANTILE = 0.65"
   ]
  },
  {
   "cell_type": "code",
   "execution_count": 2,
   "id": "waiting-offset",
   "metadata": {},
   "outputs": [],
   "source": [
    "b0, data1 = parse('20060504_072852_NOAA_12.m.pro')\n",
    "data1 = data1.astype(float)\n",
    "data1[data1 < 0] = -100"
   ]
  },
  {
   "cell_type": "code",
   "execution_count": 3,
   "id": "shared-chile",
   "metadata": {},
   "outputs": [],
   "source": [
    "b0, data2 = parse('20060504_125118_NOAA_17.m.pro')\n",
    "data2 = data2.astype(float)\n",
    "data2[data2 < 0] = -100"
   ]
  },
  {
   "cell_type": "code",
   "execution_count": 4,
   "id": "forced-customer",
   "metadata": {},
   "outputs": [],
   "source": [
    "point_coors = generate_points(data1, X0, Y0, dX, dY, STEP, WINDOW_SIZE, NAN_VAL)"
   ]
  },
  {
   "cell_type": "code",
   "execution_count": 5,
   "id": "twelve-shape",
   "metadata": {},
   "outputs": [],
   "source": [
    "data1 = torch.tensor(data1).to(device)\n",
    "data2 = torch.tensor(data2).to(device)"
   ]
  },
  {
   "cell_type": "code",
   "execution_count": null,
   "id": "confidential-stamp",
   "metadata": {},
   "outputs": [],
   "source": [
    "tmp_point_coors = []\n",
    "new_coors = []\n",
    "mask = []\n",
    "\n",
    "for point_coor in tqdm(point_coors):\n",
    "    try:\n",
    "        idx, velocity, mask = inference(data1, data2, b0, dT, point_coor, \n",
    "                  WINDOW_SIZE, VICINITY_SIZE, ssim,\n",
    "                  device, 'max', 'pix',  None, None, .5)\n",
    "        tmp_point_coors.append(point_coor)\n",
    "        new_coors.append()\n",
    "    except:\n",
    "        continue"
   ]
  },
  {
   "cell_type": "code",
   "execution_count": null,
   "id": "magnetic-choice",
   "metadata": {},
   "outputs": [],
   "source": []
  },
  {
   "cell_type": "code",
   "execution_count": null,
   "id": "corresponding-citizenship",
   "metadata": {},
   "outputs": [],
   "source": []
  },
  {
   "cell_type": "code",
   "execution_count": null,
   "id": "expected-tiffany",
   "metadata": {},
   "outputs": [],
   "source": []
  },
  {
   "cell_type": "code",
   "execution_count": null,
   "id": "ongoing-sequence",
   "metadata": {},
   "outputs": [],
   "source": [
    "gv_idx = (filtered_scores > .5)*(loss < np.quantile(loss, DISTANCE_QUANTILE))"
   ]
  },
  {
   "cell_type": "code",
   "execution_count": null,
   "id": "ongoing-telescope",
   "metadata": {},
   "outputs": [],
   "source": [
    "distances = np.array([calculate_distance(b0, point_coors[i], new_coors[i]) for i in range(len(new_coors))])\n",
    "velocities = distances/dT\n",
    "max_velocity = np.max(velocities[gv_idx])\n",
    "quant_velocity = np.quantile(velocities[gv_idx], .95)\n",
    "min_velocity = np.min(velocities[gv_idx])\n",
    "mean_velocity = np.mean(velocities[gv_idx])\n",
    "median_velocity = np.median(velocities[gv_idx])"
   ]
  },
  {
   "cell_type": "code",
   "execution_count": null,
   "id": "comfortable-paintball",
   "metadata": {},
   "outputs": [],
   "source": [
    "annotations = []\n",
    "for i in range(len(new_coors)):\n",
    "    \n",
    "    if not gv_idx[i]:\n",
    "        continue \n",
    "    \n",
    "    normalized_velocity = (velocities[i])/max(velocities)\n",
    "    if normalized_velocity < 0.5:\n",
    "        c = colorFader(px.colors.sequential.Inferno[0], px.colors.sequential.Inferno[4], normalized_velocity/.5)\n",
    "    else:\n",
    "        try:\n",
    "            c = colorFader(px.colors.sequential.Inferno[4], px.colors.sequential.Inferno[-1], (normalized_velocity-0.5)/0.5)\n",
    "        except:\n",
    "            print((normalized_velocity-0.5)/0.5)\n",
    "            print(normalized_velocity)\n",
    "    \n",
    "    annotations.append(dict(\n",
    "        x= new_coors[i, 1],\n",
    "        y= new_coors[i, 0],\n",
    "        xref=\"x\", yref=\"y\",\n",
    "        text=\"\",\n",
    "        showarrow=True,\n",
    "        axref = \"x\", ayref='y',\n",
    "        ax= point_coors[i, 1],\n",
    "        ay= point_coors[i, 0],\n",
    "        arrowhead=1,\n",
    "        arrowwidth=1,\n",
    "        arrowcolor=c,\n",
    "        hovertext=velocities[i]\n",
    "    ))"
   ]
  },
  {
   "cell_type": "code",
   "execution_count": null,
   "id": "primary-color",
   "metadata": {},
   "outputs": [],
   "source": [
    "fig = px.imshow(data1, width=800, height=800, color_continuous_scale='gray', zmin=500, zmax=719,\n",
    "        title=f'Max velocity: {max_velocity:.4f} | Mean velocity: {mean_velocity:.4f} | Median velocity: {median_velocity:.4f}')\n",
    "\n",
    "fig.update_layout(coloraxis_showscale=False)\n",
    "fig.update_xaxes(showticklabels=False)\n",
    "fig.update_yaxes(showticklabels=False)\n",
    "\n",
    "fig.update_layout(annotations=annotations)\n",
    "colorbar_trace  = go.Scatter(x=[None],\n",
    "                             y=[None],\n",
    "                             mode='markers',\n",
    "                             marker=dict(\n",
    "                                 colorscale='inferno', \n",
    "                                 showscale=True,\n",
    "                                 cmin=1,\n",
    "                                 cmax=0,\n",
    "                                 colorbar=dict(thickness=30, tickvals=[0, 0.5, 1], outlinewidth=1)\n",
    "                             ),\n",
    "                             hoverinfo='none'\n",
    "                            )\n",
    "fig.add_trace(colorbar_trace)\n",
    "fig.show()"
   ]
  },
  {
   "cell_type": "code",
   "execution_count": 101,
   "id": "statutory-coordination",
   "metadata": {},
   "outputs": [],
   "source": [
    "import pickle\n",
    "\n",
    "with open('10px_best_res_coors.pickle', 'rb') as f:\n",
    "    new_coors = pickle.load(f)\n",
    "with open('10px_best_point_coors.pickle', 'rb') as f:\n",
    "    point_coors = pickle.load(f)\n",
    "with open('10px_best_scores.pickle', 'rb') as f:\n",
    "    scores = pickle.load(f)"
   ]
  },
  {
   "cell_type": "code",
   "execution_count": 37,
   "id": "nonprofit-yellow",
   "metadata": {},
   "outputs": [],
   "source": [
    "import pickle\n",
    "\n",
    "with open('10px_best_res_coors.pickle', 'wb') as f:\n",
    "    pickle.dump(new_coors, f)\n",
    "with open('10px_best_point_coors.pickle', 'wb') as f:\n",
    "    pickle.dump(point_coors, f)\n",
    "with open('10px_best_scores.pickle', 'wb') as f:\n",
    "    pickle.dump(scores, f)\n",
    "with open('10px_best_loss.pickle', 'wb') as f:\n",
    "    pickle.dump(distance_score, f)"
   ]
  },
  {
   "cell_type": "code",
   "execution_count": null,
   "id": "noble-spray",
   "metadata": {},
   "outputs": [],
   "source": []
  }
 ],
 "metadata": {
  "kernelspec": {
   "display_name": "Python 3",
   "language": "python",
   "name": "python3"
  },
  "language_info": {
   "codemirror_mode": {
    "name": "ipython",
    "version": 3
   },
   "file_extension": ".py",
   "mimetype": "text/x-python",
   "name": "python",
   "nbconvert_exporter": "python",
   "pygments_lexer": "ipython3",
   "version": "3.6.13"
  }
 },
 "nbformat": 4,
 "nbformat_minor": 5
}
