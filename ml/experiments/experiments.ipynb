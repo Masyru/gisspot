{
 "cells": [
  {
   "cell_type": "code",
   "execution_count": 1,
   "metadata": {},
   "outputs": [],
   "source": [
    "import torch.nn.functional as F\n",
    "import torch\n",
    "import numpy as np\n",
    "import matplotlib.pyplot as plt\n",
    "import os\n",
    "import sys\n",
    "from tqdm.notebook import tqdm\n",
    "from helpers import *\n",
    "from matplotlib.cm import ScalarMappable\n",
    "from joblib import Parallel, delayed, parallel_backend\n",
    "import multiprocessing\n",
    "import plotly.express as px\n",
    "import plotly.graph_objects as go\n",
    "import plotly.figure_factory as ff\n",
    "import matplotlib as mpl\n",
    "import datetime\n",
    "from math import atan, pi\n",
    "\n",
    "%matplotlib inline\n",
    "\n",
    "device = 'cpu'\n",
    "NAN_VAL = -100\n",
    "WINDOW_SIZE = (31, 31)\n",
    "VICINITY_SIZE = (80, 80)\n",
    "FILTER_WINDOW_SIZE = (51, 51)\n",
    "dX = 500\n",
    "dY = 500\n",
    "STEP = 10\n",
    "X0 = 190\n",
    "Y0 = 940\n",
    "dT = 22810\n",
    "DISTANCE_QUANTILE = 0.65"
   ]
  },
  {
   "cell_type": "code",
   "execution_count": 2,
   "metadata": {},
   "outputs": [],
   "source": [
    "b0, data1 = parse('20060504_072852_NOAA_12.m.pro')\n",
    "data1 = data1.astype(float)\n",
    "data1[data1 < 0] = -100"
   ]
  },
  {
   "cell_type": "code",
   "execution_count": 3,
   "metadata": {},
   "outputs": [],
   "source": [
    "b0, data2 = parse('20060504_125118_NOAA_17.m.pro')\n",
    "data2 = data2.astype(float)\n",
    "data2[data2 < 0] = -100"
   ]
  },
  {
   "cell_type": "code",
   "execution_count": 4,
   "metadata": {},
   "outputs": [],
   "source": [
    "point_coors = generate_points(data1, X0, Y0, dX, dY, STEP, WINDOW_SIZE, NAN_VAL)"
   ]
  },
  {
   "cell_type": "code",
   "execution_count": 5,
   "metadata": {},
   "outputs": [],
   "source": [
    "data1 = torch.tensor(data1).to(device)\n",
    "data2 = torch.tensor(data2).to(device)"
   ]
  },
  {
   "cell_type": "code",
   "execution_count": 7,
   "metadata": {},
   "outputs": [
    {
     "data": {
      "application/vnd.jupyter.widget-view+json": {
       "model_id": "ed1c85921c554c04b0d099f09c5b1213",
       "version_major": 2,
       "version_minor": 0
      },
      "text/plain": [
       "  0%|          | 0/2209 [00:00<?, ?it/s]"
      ]
     },
     "metadata": {},
     "output_type": "display_data"
    },
    {
     "name": "stdout",
     "output_type": "stream",
     "text": [
      "Wall time: 4min 30s\n"
     ]
    }
   ],
   "source": [
    "%%time\n",
    "new_coors = [[-1, -1]]*len(point_coors)\n",
    "scores = [0]*len(point_coors)\n",
    "\n",
    "for i, point_coor in enumerate(tqdm(point_coors)):\n",
    "    try:\n",
    "        idx, score, vicinity, yx = find_best_match(data1, data2, point_coor, \n",
    "                                    WINDOW_SIZE, VICINITY_SIZE, ssim, \n",
    "                                    device,\n",
    "                                    mode='max')\n",
    "        new_coors[i] = idx\n",
    "        scores[i] = score\n",
    "    except:\n",
    "        continue\n",
    "\n",
    "new_coors = np.array(new_coors)\n",
    "point_coors = np.array(point_coors)\n",
    "scores = np.array(scores)"
   ]
  },
  {
   "cell_type": "code",
   "execution_count": 8,
   "metadata": {},
   "outputs": [],
   "source": [
    "point_coors = point_coors[new_coors[:, 0] != -1]\n",
    "scores = scores[new_coors[:, 0] != -1]\n",
    "new_coors = new_coors[new_coors[:, 0] != -1]"
   ]
  },
  {
   "cell_type": "code",
   "execution_count": 9,
   "metadata": {},
   "outputs": [
    {
     "data": {
      "application/vnd.jupyter.widget-view+json": {
       "model_id": "8bd926f9bce244209e41f4faeed5dab6",
       "version_major": 2,
       "version_minor": 0
      },
      "text/plain": [
       "  0%|          | 0/2209 [00:00<?, ?it/s]"
      ]
     },
     "metadata": {},
     "output_type": "display_data"
    },
    {
     "name": "stdout",
     "output_type": "stream",
     "text": [
      "Wall time: 4min 23s\n"
     ]
    }
   ],
   "source": [
    "%%time\n",
    "\n",
    "loss, _, mask = calculate_euclidean_loss(\n",
    "    data1, data2, point_coors, new_coors,\n",
    "    WINDOW_SIZE, VICINITY_SIZE, ssim,\n",
    "    device, 'max', None\n",
    ")ЛОТР\n",
    "\n",
    "data1 = data1.cpu().numpy()\n",
    "data2 = data2.cpu().numpy()"
   ]
  },
  {
   "cell_type": "code",
   "execution_count": 10,
   "metadata": {},
   "outputs": [
    {
     "ename": "NameError",
     "evalue": "name 'mask' is not defined",
     "output_type": "error",
     "traceback": [
      "\u001b[1;31m---------------------------------------------------------------------------\u001b[0m",
      "\u001b[1;31mNameError\u001b[0m                                 Traceback (most recent call last)",
      "\u001b[1;32m<ipython-input-10-c91307f77779>\u001b[0m in \u001b[0;36m<module>\u001b[1;34m\u001b[0m\n\u001b[1;32m----> 1\u001b[1;33m \u001b[0mpoint_coors\u001b[0m \u001b[1;33m=\u001b[0m \u001b[0mpoint_coors\u001b[0m\u001b[1;33m[\u001b[0m\u001b[0mmask\u001b[0m\u001b[1;33m]\u001b[0m\u001b[1;33m\u001b[0m\u001b[1;33m\u001b[0m\u001b[0m\n\u001b[0m\u001b[0;32m      2\u001b[0m \u001b[0mnew_coors\u001b[0m \u001b[1;33m=\u001b[0m \u001b[0mnew_coors\u001b[0m\u001b[1;33m[\u001b[0m\u001b[0mmask\u001b[0m\u001b[1;33m]\u001b[0m\u001b[1;33m\u001b[0m\u001b[1;33m\u001b[0m\u001b[0m\n\u001b[0;32m      3\u001b[0m \u001b[0mscores\u001b[0m \u001b[1;33m=\u001b[0m \u001b[0mscores\u001b[0m\u001b[1;33m[\u001b[0m\u001b[0mmask\u001b[0m\u001b[1;33m]\u001b[0m\u001b[1;33m\u001b[0m\u001b[1;33m\u001b[0m\u001b[0m\n",
      "\u001b[1;31mNameError\u001b[0m: name 'mask' is not defined"
     ]
    }
   ],
   "source": [
    "point_coors = point_coors[mask]\n",
    "new_coors = new_coors[mask]\n",
    "scores = scores[mask]"
   ]
  },
  {
   "cell_type": "code",
   "execution_count": null,
   "metadata": {},
   "outputs": [],
   "source": [
    "gv_idx = (filtered_scores > .5)*(loss < np.quantile(loss, DISTANCE_QUANTILE))"
   ]
  },
  {
   "cell_type": "code",
   "execution_count": null,
   "metadata": {},
   "outputs": [],
   "source": [
    "distances = np.array([calculate_distance(b0, point_coors[i], new_coors[i]) for i in range(len(new_coors))])\n",
    "velocities = distances/dT\n",
    "max_velocity = np.max(velocities[gv_idx])\n",
    "quant_velocity = np.quantile(velocities[gv_idx], .95)\n",
    "min_velocity = np.min(velocities[gv_idx])\n",
    "mean_velocity = np.mean(velocities[gv_idx])\n",
    "median_velocity = np.median(velocities[gv_idx])"
   ]
  },
  {
   "cell_type": "code",
   "execution_count": null,
   "metadata": {},
   "outputs": [],
   "source": [
    "annotations = []\n",
    "for i in range(len(new_coors)):\n",
    "    \n",
    "    if not gv_idx[i]:\n",
    "        continue \n",
    "    \n",
    "    normalized_velocity = (velocities[i])/max(velocities)\n",
    "    if normalized_velocity < 0.5:\n",
    "        c = colorFader(px.colors.sequential.Inferno[0], px.colors.sequential.Inferno[4], normalized_velocity/.5)\n",
    "    else:\n",
    "        try:\n",
    "            c = colorFader(px.colors.sequential.Inferno[4], px.colors.sequential.Inferno[-1], (normalized_velocity-0.5)/0.5)\n",
    "        except:\n",
    "            print((normalized_velocity-0.5)/0.5)\n",
    "            print(normalized_velocity)\n",
    "    \n",
    "    annotations.append(dict(\n",
    "        x= new_coors[i, 1],\n",
    "        y= new_coors[i, 0],\n",
    "        xref=\"x\", yref=\"y\",\n",
    "        text=\"\",\n",
    "        showarrow=True,\n",
    "        axref = \"x\", ayref='y',\n",
    "        ax= point_coors[i, 1],\n",
    "        ay= point_coors[i, 0],\n",
    "        arrowhead=1,\n",
    "        arrowwidth=1,\n",
    "        arrowcolor=c,\n",
    "        hovertext=velocities[i]\n",
    "    ))"
   ]
  },
  {
   "cell_type": "code",
   "execution_count": null,
   "metadata": {},
   "outputs": [],
   "source": [
    "fig = px.imshow(data1, width=800, height=800, color_continuous_scale='gray', zmin=500, zmax=719,\n",
    "        title=f'Max velocity: {max_velocity:.4f} | Mean velocity: {mean_velocity:.4f} | Median velocity: {median_velocity:.4f}')\n",
    "\n",
    "fig.update_layout(coloraxis_showscale=False)\n",
    "fig.update_xaxes(showticklabels=False)\n",
    "fig.update_yaxes(showticklabels=False)\n",
    "\n",
    "fig.update_layout(annotations=annotations)\n",
    "colorbar_trace  = go.Scatter(x=[None],\n",
    "                             y=[None],\n",
    "                             mode='markers',\n",
    "                             marker=dict(\n",
    "                                 colorscale='inferno', \n",
    "                                 showscale=True,\n",
    "                                 cmin=1,\n",
    "                                 cmax=0,\n",
    "                                 colorbar=dict(thickness=30, tickvals=[0, 0.5, 1], outlinewidth=1)\n",
    "                             ),\n",
    "                             hoverinfo='none'\n",
    "                            )\n",
    "fig.add_trace(colorbar_trace)\n",
    "fig.show()"
   ]
  },
  {
   "cell_type": "code",
   "execution_count": 101,
   "metadata": {},
   "outputs": [],
   "source": [
    "import pickle\n",
    "\n",
    "with open('10px_best_res_coors.pickle', 'rb') as f:\n",
    "    new_coors = pickle.load(f)\n",
    "with open('10px_best_point_coors.pickle', 'rb') as f:\n",
    "    point_coors = pickle.load(f)\n",
    "with open('10px_best_scores.pickle', 'rb') as f:\n",
    "    scores = pickle.load(f)"
   ]
  },
  {
   "cell_type": "code",
   "execution_count": 37,
   "metadata": {},
   "outputs": [],
   "source": [
    "import pickle\n",
    "\n",
    "with open('10px_best_res_coors.pickle', 'wb') as f:\n",
    "    pickle.dump(new_coors, f)\n",
    "with open('10px_best_point_coors.pickle', 'wb') as f:\n",
    "    pickle.dump(point_coors, f)\n",
    "with open('10px_best_scores.pickle', 'wb') as f:\n",
    "    pickle.dump(scores, f)\n",
    "with open('10px_best_loss.pickle', 'wb') as f:\n",
    "    pickle.dump(distance_score, f)"
   ]
  },
  {
   "cell_type": "code",
   "execution_count": null,
   "metadata": {},
   "outputs": [],
   "source": []
  }
 ],
 "metadata": {
  "kernelspec": {
   "display_name": "Python 3",
   "language": "python",
   "name": "python3"
  },
  "language_info": {
   "codemirror_mode": {
    "name": "ipython",
    "version": 3
   },
   "file_extension": ".py",
   "mimetype": "text/x-python",
   "name": "python",
   "nbconvert_exporter": "python",
   "pygments_lexer": "ipython3",
   "version": "3.7.4"
  }
 },
 "nbformat": 4,
 "nbformat_minor": 5
}
