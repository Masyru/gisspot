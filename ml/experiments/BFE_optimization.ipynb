{
 "cells": [
  {
   "cell_type": "code",
   "execution_count": 1,
   "metadata": {},
   "outputs": [],
   "source": [
    "import torch.nn.functional as F\n",
    "import torch\n",
    "import numpy as np\n",
    "import matplotlib.pyplot as plt\n",
    "import os\n",
    "import sys\n",
    "from tqdm.notebook import tqdm\n",
    "from helpers import *\n",
    "from matplotlib.cm import ScalarMappable\n",
    "import plotly.express as px\n",
    "import plotly.graph_objects as go\n",
    "import plotly.figure_factory as ff\n",
    "import matplotlib as mpl\n",
    "import datetime\n",
    "from math import atan, pi\n",
    "from scipy.optimize import minimize\n",
    "%matplotlib inline\n",
    "\n",
    "device = 'cpu'\n",
    "NAN_VAL = -100\n",
    "WINDOW_SIZE = (31, 31)\n",
    "VICINITY_SIZE = (80, 80)\n",
    "dX = 500\n",
    "dY = 500\n",
    "STEP = 10\n",
    "X0 = 190\n",
    "Y0 = 940\n",
    "dT = 22810\n",
    "EPOCHS = 10"
   ]
  },
  {
   "cell_type": "code",
   "execution_count": 2,
   "metadata": {},
   "outputs": [],
   "source": [
    "b0, data1 = parse('20060504_072852_NOAA_12.m.pro')\n",
    "data1 = data1.astype(float)\n",
    "data1[data1 < 0] = -100"
   ]
  },
  {
   "cell_type": "code",
   "execution_count": 3,
   "metadata": {},
   "outputs": [],
   "source": [
    "b0, data2 = parse('20060504_125118_NOAA_17.m.pro')\n",
    "data2 = data2.astype(float)\n",
    "data2[data2 < 0] = -100"
   ]
  },
  {
   "cell_type": "code",
   "execution_count": 4,
   "metadata": {},
   "outputs": [],
   "source": [
    "point_coors = generate_points(data1, X0, Y0, dX, dY, STEP, WINDOW_SIZE, NAN_VAL)"
   ]
  },
  {
   "cell_type": "code",
   "execution_count": 5,
   "metadata": {},
   "outputs": [],
   "source": [
    "data1 = torch.tensor(data1).to(device)\n",
    "data2 = torch.tensor(data2).to(device)"
   ]
  },
  {
   "cell_type": "code",
   "execution_count": 6,
   "metadata": {},
   "outputs": [],
   "source": [
    "def BEL(new_coors, point_coors, window_size, coefs):\n",
    "    new_coors_rev = []\n",
    "    for new_coor in tqdm(new_coors):\n",
    "        idx, score = find_best_match(data2, data1, new_coor, window_size, \n",
    "                        VICINITY_SIZE, ssim, \n",
    "                        device, 'max', None)\n",
    "        new_coors_rev.append(idx)\n",
    "    new_coors_rev = torch.tensor(new_coors_rev, dtype=torch.float32, requires_grad=True)\n",
    "    point_coors = torch.tensor(point_coors, dtype=torch.float32, requires_grad=True)\n",
    "    return torch.mean(torch.sqrt(torch.sum(torch.pow(new_coors_rev-point_coors, 2), 1)))"
   ]
  },
  {
   "cell_type": "code",
   "execution_count": 7,
   "metadata": {},
   "outputs": [],
   "source": [
    "alpha = torch.tensor(1.0, requires_grad=True)\n",
    "beta = torch.tensor(1.0, requires_grad=True)\n",
    "gamma = torch.tensor(1.0, requires_grad=True)\n",
    "optimizer = torch.optim.Adam([alpha, beta, gamma], lr=1e-2)\n",
    "EPOCHS = 5"
   ]
  },
  {
   "cell_type": "code",
   "execution_count": 8,
   "metadata": {},
   "outputs": [],
   "source": [
    "losses = []\n",
    "params = []"
   ]
  },
  {
   "cell_type": "code",
   "execution_count": 9,
   "metadata": {},
   "outputs": [
    {
     "data": {
      "application/vnd.jupyter.widget-view+json": {
       "model_id": "40f5837c1ebb45458f38df4a515b2ef7",
       "version_major": 2,
       "version_minor": 0
      },
      "text/plain": [
       "  0%|          | 0/5 [00:00<?, ?it/s]"
      ]
     },
     "metadata": {},
     "output_type": "display_data"
    },
    {
     "data": {
      "application/vnd.jupyter.widget-view+json": {
       "model_id": "1381a3da96aa4bf59ed356987caa3a61",
       "version_major": 2,
       "version_minor": 0
      },
      "text/plain": [
       "  0%|          | 0/2209 [00:00<?, ?it/s]"
      ]
     },
     "metadata": {},
     "output_type": "display_data"
    },
    {
     "ename": "KeyboardInterrupt",
     "evalue": "",
     "output_type": "error",
     "traceback": [
      "\u001b[1;31m---------------------------------------------------------------------------\u001b[0m",
      "\u001b[1;31mKeyboardInterrupt\u001b[0m                         Traceback (most recent call last)",
      "\u001b[1;32m<ipython-input-9-c8727aa49ab5>\u001b[0m in \u001b[0;36m<module>\u001b[1;34m\u001b[0m\n\u001b[0;32m      9\u001b[0m         idx, score = find_best_match(data1, data2, point_coor, WINDOW_SIZE, \n\u001b[0;32m     10\u001b[0m                         \u001b[0mVICINITY_SIZE\u001b[0m\u001b[1;33m,\u001b[0m \u001b[0mssim\u001b[0m\u001b[1;33m,\u001b[0m\u001b[1;33m\u001b[0m\u001b[1;33m\u001b[0m\u001b[0m\n\u001b[1;32m---> 11\u001b[1;33m                         device, 'max', coefs)\n\u001b[0m\u001b[0;32m     12\u001b[0m         \u001b[0mnew_coors\u001b[0m\u001b[1;33m.\u001b[0m\u001b[0mappend\u001b[0m\u001b[1;33m(\u001b[0m\u001b[0midx\u001b[0m\u001b[1;33m)\u001b[0m\u001b[1;33m\u001b[0m\u001b[1;33m\u001b[0m\u001b[0m\n\u001b[0;32m     13\u001b[0m     \u001b[0mloss\u001b[0m \u001b[1;33m=\u001b[0m \u001b[0mBEL\u001b[0m\u001b[1;33m(\u001b[0m\u001b[0mnew_coors\u001b[0m\u001b[1;33m,\u001b[0m \u001b[0mpoint_coors\u001b[0m\u001b[1;33m,\u001b[0m \u001b[0mWINDOW_SIZE\u001b[0m\u001b[1;33m,\u001b[0m \u001b[0mcoefs\u001b[0m\u001b[1;33m)\u001b[0m\u001b[1;33m\u001b[0m\u001b[1;33m\u001b[0m\u001b[0m\n",
      "\u001b[1;32m~\\Desktop\\gisspot\\ml\\experiments\\helpers.py\u001b[0m in \u001b[0;36mfind_best_match\u001b[1;34m(img1, img2, point_coor, window_size, vicinity_size, metric_fn, device, mode, coefs)\u001b[0m\n\u001b[0;32m    315\u001b[0m             \u001b[0myx\u001b[0m\u001b[1;33m.\u001b[0m\u001b[0mappend\u001b[0m\u001b[1;33m(\u001b[0m\u001b[1;33m[\u001b[0m\u001b[0my\u001b[0m\u001b[1;33m,\u001b[0m \u001b[0mx\u001b[0m\u001b[1;33m]\u001b[0m\u001b[1;33m)\u001b[0m\u001b[1;33m\u001b[0m\u001b[1;33m\u001b[0m\u001b[0m\n\u001b[0;32m    316\u001b[0m             \u001b[0mimg2_crop\u001b[0m \u001b[1;33m=\u001b[0m \u001b[0mimg2\u001b[0m\u001b[1;33m[\u001b[0m\u001b[0my\u001b[0m\u001b[1;33m:\u001b[0m\u001b[0my\u001b[0m\u001b[1;33m+\u001b[0m\u001b[0mwindow_size\u001b[0m\u001b[1;33m[\u001b[0m\u001b[1;36m0\u001b[0m\u001b[1;33m]\u001b[0m\u001b[1;33m,\u001b[0m \u001b[0mx\u001b[0m\u001b[1;33m:\u001b[0m\u001b[0mx\u001b[0m\u001b[1;33m+\u001b[0m\u001b[0mwindow_size\u001b[0m\u001b[1;33m[\u001b[0m\u001b[1;36m1\u001b[0m\u001b[1;33m]\u001b[0m\u001b[1;33m]\u001b[0m\u001b[1;33m\u001b[0m\u001b[1;33m\u001b[0m\u001b[0m\n\u001b[1;32m--> 317\u001b[1;33m             \u001b[0mimgs\u001b[0m\u001b[1;33m[\u001b[0m\u001b[0mc\u001b[0m\u001b[1;33m]\u001b[0m \u001b[1;33m=\u001b[0m \u001b[0mimg2_crop\u001b[0m\u001b[1;33m.\u001b[0m\u001b[0mreshape\u001b[0m\u001b[1;33m(\u001b[0m\u001b[1;33m-\u001b[0m\u001b[1;36m1\u001b[0m\u001b[1;33m)\u001b[0m\u001b[1;33m\u001b[0m\u001b[1;33m\u001b[0m\u001b[0m\n\u001b[0m\u001b[0;32m    318\u001b[0m             \u001b[0mc\u001b[0m \u001b[1;33m+=\u001b[0m \u001b[1;36m1\u001b[0m\u001b[1;33m\u001b[0m\u001b[1;33m\u001b[0m\u001b[0m\n\u001b[0;32m    319\u001b[0m \u001b[1;33m\u001b[0m\u001b[0m\n",
      "\u001b[1;31mKeyboardInterrupt\u001b[0m: "
     ]
    }
   ],
   "source": [
    "for epoch in tqdm(range(EPOCHS)):\n",
    "    coefs = {\n",
    "        'alpha': alpha,\n",
    "        'beta': beta,\n",
    "        'gamma': gamma\n",
    "    }\n",
    "    new_coors = []\n",
    "    for point_coor in tqdm(point_coors):\n",
    "        idx, score = find_best_match(data1, data2, point_coor, WINDOW_SIZE, \n",
    "                        VICINITY_SIZE, ssim, \n",
    "                        device, 'max', coefs)\n",
    "        new_coors.append(idx)\n",
    "    loss = BEL(new_coors, point_coors, WINDOW_SIZE, coefs)\n",
    "    loss.backward()\n",
    "    optimizer.step()\n",
    "    optimizer.zero_grad()\n",
    "    losses.append(loss.detach().item())\n",
    "    params.append([alpha.detach().item(), beta.detach().item(), gamma.detach().item()])\n",
    "    print(loss/(VICINITY_SIZE[0]**2+VICINITY_SIZE[1]**2)**.5)"
   ]
  },
  {
   "cell_type": "code",
   "execution_count": null,
   "metadata": {},
   "outputs": [],
   "source": []
  }
 ],
 "metadata": {
  "kernelspec": {
   "display_name": "Python 3",
   "language": "python",
   "name": "python3"
  },
  "language_info": {
   "codemirror_mode": {
    "name": "ipython",
    "version": 3
   },
   "file_extension": ".py",
   "mimetype": "text/x-python",
   "name": "python",
   "nbconvert_exporter": "python",
   "pygments_lexer": "ipython3",
   "version": "3.7.4"
  }
 },
 "nbformat": 4,
 "nbformat_minor": 2
}
